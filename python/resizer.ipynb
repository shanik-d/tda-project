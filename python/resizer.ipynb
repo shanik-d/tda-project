{
 "cells": [
  {
   "cell_type": "code",
   "execution_count": 7,
   "metadata": {},
   "outputs": [
    {
     "name": "stdout",
     "output_type": "stream",
     "text": [
      "JPEG\n"
     ]
    }
   ],
   "source": [
    "%matplotlib inline\n",
    "import matplotlib.pyplot as plt\n",
    "import numpy as np\n",
    "import cv2\n",
    "from PIL import Image\n",
    "from resizeimage import resizeimage as rsize\n",
    "import os\n",
    "\n",
    "np.set_printoptions(suppress=True)\n",
    "\n",
    "def resizeImage(img_path, size):\n",
    "    img = Image.open(img_path)\n",
    "    img = rsize.resize_height(img, size)\n",
    "    filepath = os.path.splitext(img_path)\n",
    "    img_savepath = filepath[0] + \" copy\" + filepath[1]\n",
    "    img.save(img_savepath, img.format)\n",
    "    return(img_savepath)\n",
    "\n",
    "def gen_features(gray_img, alg):\n",
    "    obj = cv2.xfeatures2d.SIFT_create()\n",
    "    if(alg == \"SURF\"):\n",
    "        obj = cv2.xfeatures2d.SURF_create()\n",
    "    # kp is the keypoints\n",
    "    #\n",
    "    # desc is the SIFT descriptors, they're 128-dimensional vectors\n",
    "    # that we can use for our final features\n",
    "    kp, desc = obj.detectAndCompute(gray_img, None)\n",
    "    return kp, desc\n",
    "\n",
    "def change_filepath(readpath, num, alg):\n",
    "    rpath = os.splitext(readpath)\n",
    "    \n",
    "\n",
    "def readImagesCreateFeatures(num, readpath, alg):\n",
    "    img_data_array = []\n",
    "    if(alg == \"Both\"):\n",
    "        num *= 2\n",
    "    for i in range(num):\n",
    "        algo = alg\n",
    "        rpath = readpath\n",
    "        spath = savepath\n",
    "        if(alg == \"Both\"):\n",
    "            if(i < num/2):\n",
    "                algo = \"SIFT\"\n",
    "                spath += \"_SIFT\"\n",
    "            else:\n",
    "                algo = \"SURF\"\n",
    "                spath+= \"_SURF\"\n",
    "        if((alg==\"Both\" and num>2) or (alg!=\"Both\" and num > 1)):\n",
    "            addNum = str(i+1)\n",
    "            rpath += addNum + \").jpg\"\n",
    "            spath += \"_\" + addNum\n",
    "        print(rpath)\n",
    "        image = cv2.imread(rpath)\n",
    "        grey = cv2.cvtColor(image, cv2.COLOR_BGR2GRAY)\n",
    "        kp, desc = gen_features(grey, algo)\n",
    "        if(num == 1):\n",
    "            img_data_array = [image, grey, kp, desc]\n",
    "        else:\n",
    "            img_data_array.append([image, grey, kp, desc])\n",
    "    return img_data_array\n",
    "\n"
   ]
  },
  {
   "cell_type": "code",
   "execution_count": null,
   "metadata": {},
   "outputs": [],
   "source": []
  }
 ],
 "metadata": {
  "kernelspec": {
   "display_name": "Python [conda env:TDAenv]",
   "language": "python",
   "name": "conda-env-TDAenv-py"
  },
  "language_info": {
   "codemirror_mode": {
    "name": "ipython",
    "version": 2
   },
   "file_extension": ".py",
   "mimetype": "text/x-python",
   "name": "python",
   "nbconvert_exporter": "python",
   "pygments_lexer": "ipython2",
   "version": "2.7.14"
  }
 },
 "nbformat": 4,
 "nbformat_minor": 2
}
