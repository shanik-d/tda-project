{
 "cells": [
  {
   "cell_type": "code",
   "execution_count": 15,
   "metadata": {},
   "outputs": [
    {
     "name": "stdout",
     "output_type": "stream",
     "text": [
      "75\n"
     ]
    }
   ],
   "source": [
    "%matplotlib inline\n",
    "import matplotlib.pyplot as plt\n",
    "import numpy as np\n",
    "import cv2\n",
    "\n",
    "def show_colour_and_grey_image(img_index):\n",
    "    colour_img = cv2.cvtColor(imArr[img_index], cv2.COLOR_BGR2RGB)\n",
    "    grey_img = grArr[img_index]\n",
    "    fig = plt.figure()\n",
    "    ax0 = fig.add_subplot(121)\n",
    "    ax0.axis(\"off\")\n",
    "    ax0.imshow(colour_img)\n",
    "    ax1 = fig.add_subplot(122)\n",
    "    ax1.axis(\"off\")\n",
    "    ax1.imshow(grey_img, cmap='gray')\n",
    "    plt.show()\n",
    "\n",
    "# show_colour_and_grey_image(1)\n",
    "# show_colour_and_grey_image(8)\n",
    "\n",
    "def gen_sift_features(gray_img):\n",
    "    sift = cv2.xfeatures2d.SIFT_create()\n",
    "    # kp is the keypoints\n",
    "    #\n",
    "    # desc is the SIFT descriptors, they're 128-dimensional vectors\n",
    "    # that we can use for our final features\n",
    "    kp, desc = sift.detectAndCompute(gray_img, None)\n",
    "    return kp, desc\n",
    "\n",
    "def show_sift_features(gray_img, color_img, kp):\n",
    "    plt.figure()\n",
    "    plt.axis(\"off\")\n",
    "    plt.imshow(cv2.drawKeypoints(gray_img, kp, color_img.copy()))\n",
    "    plt.show()\n",
    "    \n",
    "def show_matching_features(img1_data, img2_data):\n",
    "    # create a BFMatcher object which will match up the SIFT features\n",
    "    bf = cv2.BFMatcher(cv2.NORM_L2, crossCheck=True)\n",
    "\n",
    "    matches = bf.match(img1_data[3], img2_data[3])\n",
    "\n",
    "    # Sort the matches in the order of their distance.\n",
    "    matches = sorted(matches, key = lambda x:x.distance)\n",
    "\n",
    "    # draw the top N matches\n",
    "    N_MATCHES = 100\n",
    "\n",
    "    match_img = cv2.drawMatches(\n",
    "        img1_data[0], img1_data[2],\n",
    "        img2_data[0], img2_data[2],\n",
    "        matches[:N_MATCHES], img2_data[0].copy(), flags=0)\n",
    "\n",
    "    plt.figure(figsize=(12,6))\n",
    "    plt.imshow(match_img);\n",
    "    plt.show()\n",
    "\n"
   ]
  },
  {
   "cell_type": "code",
   "execution_count": 6,
   "metadata": {},
   "outputs": [],
   "source": [
    "\n",
    "fpath = \"../images/sunsets/resized/sunset (\"\n",
    "imArr=[]\n",
    "grArr=[]\n",
    "for i in range(13):\n",
    "    num = str(i+1)\n",
    "    filepath = fpath + num + \").jpg\"\n",
    "    image = cv2.imread(filepath)\n",
    "    imArr.append(image)\n",
    "    grArr.append(cv2.cvtColor(image, cv2.COLOR_BGR2GRAY))\n",
    "    #to use the SIFT features we need a greyscale image\n",
    "\n",
    "# we can dispaly it with matplotlib\n",
    "spath = \"./sunset_vectors/sunset_data_\"\n",
    "for k in range(13):\n",
    "    sunset_data_object = sunset_data[k]\n",
    "    sunset_data_object_desc = sunset_data_object[3]\n",
    "    filepath = spath + str(k+1)\n",
    "    np.save(filepath, sunset_data_object_desc)\n",
    "    \n",
    "# first_image = imArr[0]\n",
    "# first_image_grey = grArr[0]\n",
    "# first_image_kp, first_image_desc = gen_sift_features(first_image_grey)\n",
    "#\n",
    "# print ('Here are what our SIFT features look like for the front-view octopus image:')\n",
    "# show_sift_features(first_image_grey, first_image, first_image_kp)\n",
    "\n",
    "# sunset_1 = imArr[1]\n",
    "# sunset_1_grey = grArr[1]\n",
    "# sunset_1_kp, sunset_1_desc = gen_sift_features(sunset_1_grey)\n",
    "\n",
    "# sunset_1_data = [sunset_1, sunset_1_grey, sunset_1_kp, sunset_1_desc]\n",
    "\n",
    "# show_sift_features(sunset_1_data[1], sunset_1_data[0], sunset_1_data[2])\n",
    "\n",
    "# sunset_2 = imArr[8]\n",
    "# sunset_2_grey = grArr[8]\n",
    "# sunset_2_kp, sunset_2_desc = gen_sift_features(sunset_2_grey)\n",
    "\n",
    "# sunset_2_data = [sunset_2, sunset_2_grey, sunset_2_kp, sunset_2_desc]\n",
    "\n",
    "# show_sift_features(sunset_2_data[1], sunset_2_data[0], sunset_2_data[2])\n",
    "\n",
    "sunset_data = []\n",
    "for i in range(13):\n",
    "    sunset_kp, sunset_desc = gen_sift_features(grArr[i])\n",
    "    sunset_data_object = [imArr[i], grArr[i], sunset_kp, sunset_desc]\n",
    "    sunset_data.append(sunset_data_object)\n",
    "\n",
    "# for j in range(13):\n",
    "#     show_sift_features(sunset_data[j][1], sunset_data[j][0], sunset_data[j][2])\n",
    "    \n",
    "\n",
    "    \n",
    "# show_matching_features(sunset_1_data, sunset_2_data)\n",
    "\n",
    "\n",
    "print(len(sunset_data[7][3]))"
   ]
  },
  {
   "cell_type": "code",
   "execution_count": 13,
   "metadata": {},
   "outputs": [
    {
     "ename": "NameError",
     "evalue": "name 'sunset_1_data' is not defined",
     "output_type": "error",
     "traceback": [
      "\u001b[1;31m---------------------------------------------------------------------------\u001b[0m",
      "\u001b[1;31mNameError\u001b[0m                                 Traceback (most recent call last)",
      "\u001b[1;32m<ipython-input-13-35dbf4de3db5>\u001b[0m in \u001b[0;36m<module>\u001b[1;34m()\u001b[0m\n\u001b[1;32m----> 1\u001b[1;33m \u001b[1;32mprint\u001b[0m\u001b[1;33m(\u001b[0m\u001b[0msunset_1_data\u001b[0m\u001b[1;33m[\u001b[0m\u001b[1;36m3\u001b[0m\u001b[1;33m]\u001b[0m\u001b[1;33m[\u001b[0m\u001b[1;36m0\u001b[0m\u001b[1;33m]\u001b[0m\u001b[1;33m)\u001b[0m\u001b[1;33m\u001b[0m\u001b[0m\n\u001b[0m\u001b[0;32m      2\u001b[0m \u001b[1;32mprint\u001b[0m\u001b[1;33m(\u001b[0m\u001b[1;33m)\u001b[0m\u001b[1;33m\u001b[0m\u001b[0m\n\u001b[0;32m      3\u001b[0m \u001b[1;33m\u001b[0m\u001b[0m\n\u001b[0;32m      4\u001b[0m \u001b[1;33m\u001b[0m\u001b[0m\n\u001b[0;32m      5\u001b[0m \u001b[1;32mprint\u001b[0m \u001b[0mlen\u001b[0m\u001b[1;33m(\u001b[0m\u001b[0msunset_1_data\u001b[0m\u001b[1;33m[\u001b[0m\u001b[1;36m2\u001b[0m\u001b[1;33m]\u001b[0m\u001b[1;33m)\u001b[0m\u001b[1;33m,\u001b[0m \u001b[1;34m'keypoints in the list'\u001b[0m\u001b[1;33m\u001b[0m\u001b[0m\n",
      "\u001b[1;31mNameError\u001b[0m: name 'sunset_1_data' is not defined"
     ]
    }
   ],
   "source": [
    "print(sunset_1_data[3][0])\n",
    "print()\n",
    "\n",
    "\n",
    "print len(sunset_1_data[2]), 'keypoints in the list'\n",
    "print sunset_1_data[2][0]\n",
    "\n",
    "def explain_keypoint(kp):\n",
    "    print 'angle\\n', kp.angle\n",
    "    print '\\nclass_id\\n', kp.class_id\n",
    "    print '\\noctave (image scale where feature is strongest)\\n', kp.octave\n",
    "    print '\\npt (x,y)\\n', kp.pt\n",
    "    print '\\nresponse\\n', kp.response\n",
    "    print '\\nsize\\n', kp.size\n",
    "\n",
    "print 'this is an example of a single SIFT keypoint:\\n* * *'\n",
    "explain_keypoint(sunset_1_data[2][0])"
   ]
  },
  {
   "cell_type": "code",
   "execution_count": 11,
   "metadata": {},
   "outputs": [
    {
     "data": {
      "image/png": "[encoded data removed]",
      "text/plain": [
       "<matplotlib.figure.Figure at 0x89594a8>"
      ]
     },
     "metadata": {},
     "output_type": "display_data"
    }
   ],
   "source": [
    "plt.imshow(sunset_1_data[3][0].reshape(16,8), interpolation='none');"
   ]
  },
  {
   "cell_type": "code",
   "execution_count": 7,
   "metadata": {},
   "outputs": [],
   "source": [
    "def readImagesCreateSIFT(num, readpath, savepath):\n",
    "    img_data_array = []\n",
    "    for i in range(num):\n",
    "        if(num > 1):\n",
    "            readpath = readpath + str(i+1) + \").jpg\"\n",
    "            savepath = savepath + str(i+1)\n",
    "        image = cv2.imread(readpath)\n",
    "        grey = cv2.cvtColor(image, cv2.COLOR_BGR2GRAY)\n",
    "        kp, desc = gen_sift_features(grey)\n",
    "        if(num == 1):\n",
    "            img_data_array = [image, grey, kp, desc]\n",
    "        else:\n",
    "            img_data_array.append([image, grey, kp, desc])\n",
    "        np.save(savepath, desc)\n",
    "    return img_data_array\n",
    "        \n",
    "rotated_sunset_data = readImagesCreateSIFT(1, \"../images/sunsets/resized/sunset (3) - upside.jpg\", \"./vectors/sunset_rot_180\")\n",
    "original_sunset_data = readImagesCreateSIFT(1, \"../images/sunsets/resized/sunset (3).jpg\", \"./vectors/sunset_orig\")"
   ]
  },
  {
   "cell_type": "code",
   "execution_count": 1,
   "metadata": {},
   "outputs": [
    {
     "ename": "NameError",
     "evalue": "name 'show_matching_features' is not defined",
     "output_type": "error",
     "traceback": [
      "\u001b[1;31m---------------------------------------------------------------------------\u001b[0m",
      "\u001b[1;31mNameError\u001b[0m                                 Traceback (most recent call last)",
      "\u001b[1;32m<ipython-input-1-af6858389d55>\u001b[0m in \u001b[0;36m<module>\u001b[1;34m()\u001b[0m\n\u001b[1;32m----> 1\u001b[1;33m \u001b[0mshow_matching_features\u001b[0m\u001b[1;33m(\u001b[0m\u001b[0moriginal_sunset_data\u001b[0m\u001b[1;33m,\u001b[0m \u001b[0mrotated_sunset_data\u001b[0m\u001b[1;33m)\u001b[0m\u001b[1;33m\u001b[0m\u001b[0m\n\u001b[0m\u001b[0;32m      2\u001b[0m \u001b[1;32mprint\u001b[0m\u001b[1;33m(\u001b[0m\u001b[0mrotated_sunset_data\u001b[0m\u001b[1;33m[\u001b[0m\u001b[1;36m3\u001b[0m\u001b[1;33m]\u001b[0m\u001b[1;33m)\u001b[0m\u001b[1;33m\u001b[0m\u001b[0m\n\u001b[0;32m      3\u001b[0m \u001b[1;32mprint\u001b[0m\u001b[1;33m(\u001b[0m\u001b[0moriginal_sunset_data\u001b[0m\u001b[1;33m[\u001b[0m\u001b[1;36m3\u001b[0m\u001b[1;33m]\u001b[0m\u001b[1;33m)\u001b[0m\u001b[1;33m\u001b[0m\u001b[0m\n\u001b[0;32m      4\u001b[0m \u001b[0mkp\u001b[0m \u001b[1;33m=\u001b[0m \u001b[0moriginal_sunset_data\u001b[0m\u001b[1;33m[\u001b[0m\u001b[1;36m2\u001b[0m\u001b[1;33m]\u001b[0m\u001b[1;33m\u001b[0m\u001b[0m\n\u001b[0;32m      5\u001b[0m \u001b[1;32mfor\u001b[0m \u001b[0mi\u001b[0m \u001b[1;32min\u001b[0m \u001b[0mkp\u001b[0m\u001b[1;33m:\u001b[0m\u001b[1;33m\u001b[0m\u001b[0m\n",
      "\u001b[1;31mNameError\u001b[0m: name 'show_matching_features' is not defined"
     ]
    }
   ],
   "source": [
    "show_matching_features(original_sunset_data, rotated_sunset_data)\n",
    "print(rotated_sunset_data[3])\n",
    "print(original_sunset_data[3])\n",
    "kp = original_sunset_data[2]\n",
    "for i in kp:\n",
    "    print(i)"
   ]
  },
  {
   "cell_type": "code",
   "execution_count": null,
   "metadata": {},
   "outputs": [],
   "source": []
  }
 ],
 "metadata": {
  "kernelspec": {
   "display_name": "Python [conda env:TDAenv]",
   "language": "python",
   "name": "conda-env-TDAenv-py"
  },
  "language_info": {
   "codemirror_mode": {
    "name": "ipython",
    "version": 2
   },
   "file_extension": ".py",
   "mimetype": "text/x-python",
   "name": "python",
   "nbconvert_exporter": "python",
   "pygments_lexer": "ipython2",
   "version": "2.7.14"
  }
 },
 "nbformat": 4,
 "nbformat_minor": 2
}
