{
 "cells": [
  {
   "cell_type": "code",
   "execution_count": 10,
   "metadata": {},
   "outputs": [
    {
     "name": "stdout",
     "output_type": "stream",
     "text": [
      "(785, 718, 3)\n",
      "785 718\n",
      "[[0. 0. 0.]\n",
      " [0. 0. 0.]\n",
      " [0. 0. 0.]\n",
      " ...\n",
      " [0. 0. 0.]\n",
      " [0. 0. 0.]\n",
      " [0. 0. 0.]]\n",
      "16777215.0\n",
      "[[0.0000000e+00 0.0000000e+00 1.6777215e+07]\n",
      " [0.0000000e+00 1.0000000e+00 1.6777215e+07]\n",
      " [0.0000000e+00 2.0000000e+00 1.6777215e+07]\n",
      " ...\n",
      " [7.1700000e+02 7.8200000e+02 1.6777215e+07]\n",
      " [7.1700000e+02 7.8300000e+02 1.6777215e+07]\n",
      " [7.1700000e+02 7.8400000e+02 1.6777215e+07]]\n"
     ]
    }
   ],
   "source": [
    "import imageio as img\n",
    "import numpy as np\n",
    "\n",
    "pic = img.imread('../images/Icosahedron.png')\n",
    "print(pic.shape)\n",
    "#print(pic)\n",
    "np.save('picarray', pic)\n",
    "\n",
    "#to compress the data into simply a 2-dimensional array, we take the RGB values for each pixel and\n",
    "#compile them as follows: R G B -> R * 256^2 + G * 256 + B = RGB\n",
    "#thus we obtain a single value that uniquely represents every colour in the 8-bit RGB gamut\n",
    "#conversion back would be a simple matter of RGB -> RGB//256^2 = R, RGB%256//256 = G, RGB%256 = B\n",
    "pWidth = pic.shape[0]\n",
    "pHeight = pic.shape[1]\n",
    "print(pWidth, pHeight)\n",
    "compressedPic = np.zeros((pWidth, pHeight))\n",
    "intermediatePic = np.zeros((pWidth, pHeight))\n",
    "multiplyArray = [256**2, 256, 1]\n",
    "\n",
    "\n",
    "# intermediatePic = np.multiply(pic, multiplyArray)\n",
    "# compressedPic = np.sum(intermediatePic, axis=2)\n",
    "\n",
    "#compressedPic is now a 2-d array with each value representing the colour\n",
    "#the pixel position is implicit\n",
    "#our input needs to be m data points in R^n, where n is the number of dimensions (potentially low?)\n",
    "#could we have n=5 x, y, r, g, b?\n",
    "\n",
    "compressedPic = np.zeros((pWidth*pHeight, 3))\n",
    "print(compressedPic)\n",
    "\n",
    "alterPic = np.reshape(pic, (pWidth*pHeight, 3))\n",
    "intermediateAlter = np.multiply(alterPic, multiplyArray)\n",
    "compressedAlter = np.sum(intermediateAlter, axis = 1)\n",
    "\n",
    "print(compressedAlter[245])\n",
    "\n",
    "\n",
    "for k in range(pWidth*pHeight):\n",
    "    compressedPic[k] = [k//pWidth, k%pWidth, compressedAlter[k]]\n",
    "\n",
    "print(compressedPic)\n",
    "\n",
    "#compressedPic is now a pq x 3 dimension array where p and q are the width and height of the image\n",
    "#and the 3rd dimension is a value representing the colour of the represented pixel\n",
    "#so each data-point has an x value, a y value, and an RGB value (each colour has a unique associated number)\n",
    "        \n",
    "np.save('compressedPicArray', compressedPic)"
   ]
  },
  {
   "cell_type": "code",
   "execution_count": 16,
   "metadata": {},
   "outputs": [],
   "source": [
    "def produceCircle(points, intercept):\n",
    "    xArr = np.linspace(intercept, -1*intercept, points)\n",
    "    yArr = [np.sqrt(intercept**2 - x**2) for x in xArr]\n",
    "    circlePoints = []\n",
    "    for p in range(points):\n",
    "        x = xArr[p]\n",
    "        y = yArr[p]\n",
    "        circlePoints.append((x, y))\n",
    "        circlePoints.append((x, -y))\n",
    "    return circlePoints\n",
    "    \n",
    "cir = produceCircle(21, 1)\n",
    "np.save('circleArray', cir)"
   ]
  },
  {
   "cell_type": "code",
   "execution_count": null,
   "metadata": {},
   "outputs": [],
   "source": []
  }
 ],
 "metadata": {
  "kernelspec": {
   "display_name": "Python (TDAenv)",
   "language": "python",
   "name": "tdaenv"
  },
  "language_info": {
   "codemirror_mode": {
    "name": "ipython",
    "version": 3
   },
   "file_extension": ".py",
   "mimetype": "text/x-python",
   "name": "python",
   "nbconvert_exporter": "python",
   "pygments_lexer": "ipython3",
   "version": "3.6.4"
  }
 },
 "nbformat": 4,
 "nbformat_minor": 2
}
